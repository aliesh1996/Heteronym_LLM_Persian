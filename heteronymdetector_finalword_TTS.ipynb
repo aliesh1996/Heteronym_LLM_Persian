{
  "nbformat": 4,
  "nbformat_minor": 0,
  "metadata": {
    "colab": {
      "provenance": []
    },
    "kernelspec": {
      "name": "python3",
      "display_name": "Python 3"
    },
    "language_info": {
      "name": "python"
    }
  },
  "cells": [
    {
      "cell_type": "code",
      "execution_count": null,
      "metadata": {
        "colab": {
          "base_uri": "https://localhost:8080/",
          "height": 1000
        },
        "id": "YjmKvpVLfzg0",
        "outputId": "4548934c-26f5-4ed0-a414-687522dfd6a1"
      },
      "outputs": [
        {
          "output_type": "stream",
          "name": "stdout",
          "text": [
            "Collecting transformers\n",
            "  Downloading transformers-4.31.0-py3-none-any.whl (7.4 MB)\n",
            "\u001b[2K     \u001b[90m━━━━━━━━━━━━━━━━━━━━━━━━━━━━━━━━━━━━━━━━\u001b[0m \u001b[32m7.4/7.4 MB\u001b[0m \u001b[31m51.7 MB/s\u001b[0m eta \u001b[36m0:00:00\u001b[0m\n",
            "\u001b[?25hRequirement already satisfied: filelock in /usr/local/lib/python3.10/dist-packages (from transformers) (3.12.2)\n",
            "Collecting huggingface-hub<1.0,>=0.14.1 (from transformers)\n",
            "  Downloading huggingface_hub-0.16.4-py3-none-any.whl (268 kB)\n",
            "\u001b[2K     \u001b[90m━━━━━━━━━━━━━━━━━━━━━━━━━━━━━━━━━━━━━━\u001b[0m \u001b[32m268.8/268.8 kB\u001b[0m \u001b[31m31.0 MB/s\u001b[0m eta \u001b[36m0:00:00\u001b[0m\n",
            "\u001b[?25hRequirement already satisfied: numpy>=1.17 in /usr/local/lib/python3.10/dist-packages (from transformers) (1.22.4)\n",
            "Requirement already satisfied: packaging>=20.0 in /usr/local/lib/python3.10/dist-packages (from transformers) (23.1)\n",
            "Requirement already satisfied: pyyaml>=5.1 in /usr/local/lib/python3.10/dist-packages (from transformers) (6.0)\n",
            "Requirement already satisfied: regex!=2019.12.17 in /usr/local/lib/python3.10/dist-packages (from transformers) (2022.10.31)\n",
            "Requirement already satisfied: requests in /usr/local/lib/python3.10/dist-packages (from transformers) (2.27.1)\n",
            "Collecting tokenizers!=0.11.3,<0.14,>=0.11.1 (from transformers)\n",
            "  Downloading tokenizers-0.13.3-cp310-cp310-manylinux_2_17_x86_64.manylinux2014_x86_64.whl (7.8 MB)\n",
            "\u001b[2K     \u001b[90m━━━━━━━━━━━━━━━━━━━━━━━━━━━━━━━━━━━━━━━━\u001b[0m \u001b[32m7.8/7.8 MB\u001b[0m \u001b[31m79.3 MB/s\u001b[0m eta \u001b[36m0:00:00\u001b[0m\n",
            "\u001b[?25hCollecting safetensors>=0.3.1 (from transformers)\n",
            "  Downloading safetensors-0.3.1-cp310-cp310-manylinux_2_17_x86_64.manylinux2014_x86_64.whl (1.3 MB)\n",
            "\u001b[2K     \u001b[90m━━━━━━━━━━━━━━━━━━━━━━━━━━━━━━━━━━━━━━━━\u001b[0m \u001b[32m1.3/1.3 MB\u001b[0m \u001b[31m73.7 MB/s\u001b[0m eta \u001b[36m0:00:00\u001b[0m\n",
            "\u001b[?25hRequirement already satisfied: tqdm>=4.27 in /usr/local/lib/python3.10/dist-packages (from transformers) (4.65.0)\n",
            "Requirement already satisfied: fsspec in /usr/local/lib/python3.10/dist-packages (from huggingface-hub<1.0,>=0.14.1->transformers) (2023.6.0)\n",
            "Requirement already satisfied: typing-extensions>=3.7.4.3 in /usr/local/lib/python3.10/dist-packages (from huggingface-hub<1.0,>=0.14.1->transformers) (4.7.1)\n",
            "Requirement already satisfied: urllib3<1.27,>=1.21.1 in /usr/local/lib/python3.10/dist-packages (from requests->transformers) (1.26.16)\n",
            "Requirement already satisfied: certifi>=2017.4.17 in /usr/local/lib/python3.10/dist-packages (from requests->transformers) (2023.5.7)\n",
            "Requirement already satisfied: charset-normalizer~=2.0.0 in /usr/local/lib/python3.10/dist-packages (from requests->transformers) (2.0.12)\n",
            "Requirement already satisfied: idna<4,>=2.5 in /usr/local/lib/python3.10/dist-packages (from requests->transformers) (3.4)\n",
            "Installing collected packages: tokenizers, safetensors, huggingface-hub, transformers\n",
            "Successfully installed huggingface-hub-0.16.4 safetensors-0.3.1 tokenizers-0.13.3 transformers-4.31.0\n",
            "Collecting hazm\n",
            "  Downloading hazm-0.9.2-py3-none-any.whl (352 kB)\n",
            "\u001b[2K     \u001b[90m━━━━━━━━━━━━━━━━━━━━━━━━━━━━━━━━━━━━━━━\u001b[0m \u001b[32m352.8/352.8 kB\u001b[0m \u001b[31m6.9 MB/s\u001b[0m eta \u001b[36m0:00:00\u001b[0m\n",
            "\u001b[?25hCollecting fasttext-wheel<0.10.0,>=0.9.2 (from hazm)\n",
            "  Downloading fasttext_wheel-0.9.2-cp310-cp310-manylinux_2_17_x86_64.manylinux2014_x86_64.whl (4.4 MB)\n",
            "\u001b[2K     \u001b[90m━━━━━━━━━━━━━━━━━━━━━━━━━━━━━━━━━━━━━━━━\u001b[0m \u001b[32m4.4/4.4 MB\u001b[0m \u001b[31m23.8 MB/s\u001b[0m eta \u001b[36m0:00:00\u001b[0m\n",
            "\u001b[?25hRequirement already satisfied: gensim<5.0.0,>=4.3.1 in /usr/local/lib/python3.10/dist-packages (from hazm) (4.3.1)\n",
            "Requirement already satisfied: nltk<4.0.0,>=3.8.1 in /usr/local/lib/python3.10/dist-packages (from hazm) (3.8.1)\n",
            "Collecting numpy<2.0.0,>=1.24.3 (from hazm)\n",
            "  Downloading numpy-1.25.1-cp310-cp310-manylinux_2_17_x86_64.manylinux2014_x86_64.whl (17.6 MB)\n",
            "\u001b[2K     \u001b[90m━━━━━━━━━━━━━━━━━━━━━━━━━━━━━━━━━━━━━━━━\u001b[0m \u001b[32m17.6/17.6 MB\u001b[0m \u001b[31m26.4 MB/s\u001b[0m eta \u001b[36m0:00:00\u001b[0m\n",
            "\u001b[?25hCollecting python-crfsuite<0.10.0,>=0.9.9 (from hazm)\n",
            "  Downloading python_crfsuite-0.9.9-cp310-cp310-manylinux_2_17_x86_64.manylinux2014_x86_64.whl (993 kB)\n",
            "\u001b[2K     \u001b[90m━━━━━━━━━━━━━━━━━━━━━━━━━━━━━━━━━━━━━━\u001b[0m \u001b[32m993.5/993.5 kB\u001b[0m \u001b[31m44.0 MB/s\u001b[0m eta \u001b[36m0:00:00\u001b[0m\n",
            "\u001b[?25hRequirement already satisfied: scikit-learn<2.0.0,>=1.2.2 in /usr/local/lib/python3.10/dist-packages (from hazm) (1.2.2)\n",
            "Collecting pybind11>=2.2 (from fasttext-wheel<0.10.0,>=0.9.2->hazm)\n",
            "  Downloading pybind11-2.11.1-py3-none-any.whl (227 kB)\n",
            "\u001b[2K     \u001b[90m━━━━━━━━━━━━━━━━━━━━━━━━━━━━━━━━━━━━━━\u001b[0m \u001b[32m227.7/227.7 kB\u001b[0m \u001b[31m22.6 MB/s\u001b[0m eta \u001b[36m0:00:00\u001b[0m\n",
            "\u001b[?25hRequirement already satisfied: setuptools>=0.7.0 in /usr/local/lib/python3.10/dist-packages (from fasttext-wheel<0.10.0,>=0.9.2->hazm) (67.7.2)\n",
            "Requirement already satisfied: scipy>=1.7.0 in /usr/local/lib/python3.10/dist-packages (from gensim<5.0.0,>=4.3.1->hazm) (1.10.1)\n",
            "Requirement already satisfied: smart-open>=1.8.1 in /usr/local/lib/python3.10/dist-packages (from gensim<5.0.0,>=4.3.1->hazm) (6.3.0)\n",
            "Requirement already satisfied: click in /usr/local/lib/python3.10/dist-packages (from nltk<4.0.0,>=3.8.1->hazm) (8.1.4)\n",
            "Requirement already satisfied: joblib in /usr/local/lib/python3.10/dist-packages (from nltk<4.0.0,>=3.8.1->hazm) (1.3.1)\n",
            "Requirement already satisfied: regex>=2021.8.3 in /usr/local/lib/python3.10/dist-packages (from nltk<4.0.0,>=3.8.1->hazm) (2022.10.31)\n",
            "Requirement already satisfied: tqdm in /usr/local/lib/python3.10/dist-packages (from nltk<4.0.0,>=3.8.1->hazm) (4.65.0)\n",
            "Requirement already satisfied: threadpoolctl>=2.0.0 in /usr/local/lib/python3.10/dist-packages (from scikit-learn<2.0.0,>=1.2.2->hazm) (3.1.0)\n",
            "Installing collected packages: python-crfsuite, pybind11, numpy, fasttext-wheel, hazm\n",
            "  Attempting uninstall: numpy\n",
            "    Found existing installation: numpy 1.22.4\n",
            "    Uninstalling numpy-1.22.4:\n",
            "      Successfully uninstalled numpy-1.22.4\n",
            "\u001b[31mERROR: pip's dependency resolver does not currently take into account all the packages that are installed. This behaviour is the source of the following dependency conflicts.\n",
            "numba 0.56.4 requires numpy<1.24,>=1.18, but you have numpy 1.25.1 which is incompatible.\n",
            "tensorflow 2.12.0 requires numpy<1.24,>=1.22, but you have numpy 1.25.1 which is incompatible.\u001b[0m\u001b[31m\n",
            "\u001b[0mSuccessfully installed fasttext-wheel-0.9.2 hazm-0.9.2 numpy-1.25.1 pybind11-2.11.1 python-crfsuite-0.9.9\n"
          ]
        },
        {
          "output_type": "display_data",
          "data": {
            "application/vnd.colab-display-data+json": {
              "pip_warning": {
                "packages": [
                  "numpy"
                ]
              }
            }
          },
          "metadata": {}
        },
        {
          "output_type": "error",
          "ename": "AttributeError",
          "evalue": "ignored",
          "traceback": [
            "\u001b[0;31m---------------------------------------------------------------------------\u001b[0m",
            "\u001b[0;31mAttributeError\u001b[0m                            Traceback (most recent call last)",
            "\u001b[0;32m<ipython-input-1-7bb2f93c14e5>\u001b[0m in \u001b[0;36m<cell line: 5>\u001b[0;34m()\u001b[0m\n\u001b[1;32m      3\u001b[0m \u001b[0;32mimport\u001b[0m \u001b[0mpandas\u001b[0m \u001b[0;32mas\u001b[0m \u001b[0mpd\u001b[0m\u001b[0;34m\u001b[0m\u001b[0;34m\u001b[0m\u001b[0m\n\u001b[1;32m      4\u001b[0m \u001b[0;32mimport\u001b[0m \u001b[0mos\u001b[0m\u001b[0;34m\u001b[0m\u001b[0;34m\u001b[0m\u001b[0m\n\u001b[0;32m----> 5\u001b[0;31m \u001b[0;32mimport\u001b[0m \u001b[0mhazm\u001b[0m \u001b[0;32mas\u001b[0m \u001b[0mh\u001b[0m\u001b[0;34m\u001b[0m\u001b[0;34m\u001b[0m\u001b[0m\n\u001b[0m\u001b[1;32m      6\u001b[0m \u001b[0;32mfrom\u001b[0m \u001b[0mhazm\u001b[0m \u001b[0;32mimport\u001b[0m \u001b[0;34m*\u001b[0m\u001b[0;34m\u001b[0m\u001b[0;34m\u001b[0m\u001b[0m\n\u001b[1;32m      7\u001b[0m \u001b[0;32mimport\u001b[0m \u001b[0mre\u001b[0m\u001b[0;34m\u001b[0m\u001b[0;34m\u001b[0m\u001b[0m\n",
            "\u001b[0;32m/usr/local/lib/python3.10/dist-packages/hazm/__init__.py\u001b[0m in \u001b[0;36m<module>\u001b[0;34m\u001b[0m\n\u001b[1;32m     15\u001b[0m \u001b[0;32mfrom\u001b[0m \u001b[0mhazm\u001b[0m\u001b[0;34m.\u001b[0m\u001b[0mutils\u001b[0m \u001b[0;32mimport\u001b[0m \u001b[0minformal_words\u001b[0m\u001b[0;34m\u001b[0m\u001b[0;34m\u001b[0m\u001b[0m\n\u001b[1;32m     16\u001b[0m \u001b[0;34m\u001b[0m\u001b[0m\n\u001b[0;32m---> 17\u001b[0;31m \u001b[0;32mfrom\u001b[0m \u001b[0mhazm\u001b[0m\u001b[0;34m.\u001b[0m\u001b[0msequence_tagger\u001b[0m \u001b[0;32mimport\u001b[0m \u001b[0mIOBTagger\u001b[0m\u001b[0;34m\u001b[0m\u001b[0;34m\u001b[0m\u001b[0m\n\u001b[0m\u001b[1;32m     18\u001b[0m \u001b[0;32mfrom\u001b[0m \u001b[0mhazm\u001b[0m\u001b[0;34m.\u001b[0m\u001b[0msequence_tagger\u001b[0m \u001b[0;32mimport\u001b[0m \u001b[0mSequenceTagger\u001b[0m\u001b[0;34m\u001b[0m\u001b[0;34m\u001b[0m\u001b[0m\n\u001b[1;32m     19\u001b[0m \u001b[0;34m\u001b[0m\u001b[0m\n",
            "\u001b[0;32m/usr/local/lib/python3.10/dist-packages/hazm/sequence_tagger.py\u001b[0m in \u001b[0;36m<module>\u001b[0;34m\u001b[0m\n\u001b[1;32m      8\u001b[0m \u001b[0;32mfrom\u001b[0m \u001b[0mpycrfsuite\u001b[0m \u001b[0;32mimport\u001b[0m \u001b[0mTagger\u001b[0m\u001b[0;34m\u001b[0m\u001b[0;34m\u001b[0m\u001b[0m\n\u001b[1;32m      9\u001b[0m \u001b[0;32mfrom\u001b[0m \u001b[0mpycrfsuite\u001b[0m \u001b[0;32mimport\u001b[0m \u001b[0mTrainer\u001b[0m\u001b[0;34m\u001b[0m\u001b[0;34m\u001b[0m\u001b[0m\n\u001b[0;32m---> 10\u001b[0;31m \u001b[0;32mfrom\u001b[0m \u001b[0msklearn\u001b[0m\u001b[0;34m.\u001b[0m\u001b[0mmetrics\u001b[0m \u001b[0;32mimport\u001b[0m \u001b[0maccuracy_score\u001b[0m\u001b[0;34m\u001b[0m\u001b[0;34m\u001b[0m\u001b[0m\n\u001b[0m\u001b[1;32m     11\u001b[0m \u001b[0;34m\u001b[0m\u001b[0m\n\u001b[1;32m     12\u001b[0m \u001b[0;34m\u001b[0m\u001b[0m\n",
            "\u001b[0;32m/usr/local/lib/python3.10/dist-packages/sklearn/__init__.py\u001b[0m in \u001b[0;36m<module>\u001b[0;34m\u001b[0m\n\u001b[1;32m     80\u001b[0m     \u001b[0;32mfrom\u001b[0m \u001b[0;34m.\u001b[0m \u001b[0;32mimport\u001b[0m \u001b[0m_distributor_init\u001b[0m  \u001b[0;31m# noqa: F401\u001b[0m\u001b[0;34m\u001b[0m\u001b[0;34m\u001b[0m\u001b[0m\n\u001b[1;32m     81\u001b[0m     \u001b[0;32mfrom\u001b[0m \u001b[0;34m.\u001b[0m \u001b[0;32mimport\u001b[0m \u001b[0m__check_build\u001b[0m  \u001b[0;31m# noqa: F401\u001b[0m\u001b[0;34m\u001b[0m\u001b[0;34m\u001b[0m\u001b[0m\n\u001b[0;32m---> 82\u001b[0;31m     \u001b[0;32mfrom\u001b[0m \u001b[0;34m.\u001b[0m\u001b[0mbase\u001b[0m \u001b[0;32mimport\u001b[0m \u001b[0mclone\u001b[0m\u001b[0;34m\u001b[0m\u001b[0;34m\u001b[0m\u001b[0m\n\u001b[0m\u001b[1;32m     83\u001b[0m     \u001b[0;32mfrom\u001b[0m \u001b[0;34m.\u001b[0m\u001b[0mutils\u001b[0m\u001b[0;34m.\u001b[0m\u001b[0m_show_versions\u001b[0m \u001b[0;32mimport\u001b[0m \u001b[0mshow_versions\u001b[0m\u001b[0;34m\u001b[0m\u001b[0;34m\u001b[0m\u001b[0m\n\u001b[1;32m     84\u001b[0m \u001b[0;34m\u001b[0m\u001b[0m\n",
            "\u001b[0;32m/usr/local/lib/python3.10/dist-packages/sklearn/base.py\u001b[0m in \u001b[0;36m<module>\u001b[0;34m\u001b[0m\n\u001b[1;32m     15\u001b[0m \u001b[0;32mfrom\u001b[0m \u001b[0;34m.\u001b[0m \u001b[0;32mimport\u001b[0m \u001b[0m__version__\u001b[0m\u001b[0;34m\u001b[0m\u001b[0;34m\u001b[0m\u001b[0m\n\u001b[1;32m     16\u001b[0m \u001b[0;32mfrom\u001b[0m \u001b[0;34m.\u001b[0m\u001b[0m_config\u001b[0m \u001b[0;32mimport\u001b[0m \u001b[0mget_config\u001b[0m\u001b[0;34m\u001b[0m\u001b[0;34m\u001b[0m\u001b[0m\n\u001b[0;32m---> 17\u001b[0;31m \u001b[0;32mfrom\u001b[0m \u001b[0;34m.\u001b[0m\u001b[0mutils\u001b[0m \u001b[0;32mimport\u001b[0m \u001b[0m_IS_32BIT\u001b[0m\u001b[0;34m\u001b[0m\u001b[0;34m\u001b[0m\u001b[0m\n\u001b[0m\u001b[1;32m     18\u001b[0m \u001b[0;32mfrom\u001b[0m \u001b[0;34m.\u001b[0m\u001b[0mutils\u001b[0m\u001b[0;34m.\u001b[0m\u001b[0m_set_output\u001b[0m \u001b[0;32mimport\u001b[0m \u001b[0m_SetOutputMixin\u001b[0m\u001b[0;34m\u001b[0m\u001b[0;34m\u001b[0m\u001b[0m\n\u001b[1;32m     19\u001b[0m from .utils._tags import (\n",
            "\u001b[0;32m/usr/local/lib/python3.10/dist-packages/sklearn/utils/__init__.py\u001b[0m in \u001b[0;36m<module>\u001b[0;34m\u001b[0m\n\u001b[1;32m     23\u001b[0m \u001b[0;32mfrom\u001b[0m \u001b[0;34m.\u001b[0m\u001b[0mdeprecation\u001b[0m \u001b[0;32mimport\u001b[0m \u001b[0mdeprecated\u001b[0m\u001b[0;34m\u001b[0m\u001b[0;34m\u001b[0m\u001b[0m\n\u001b[1;32m     24\u001b[0m \u001b[0;32mfrom\u001b[0m \u001b[0;34m.\u001b[0m\u001b[0mdiscovery\u001b[0m \u001b[0;32mimport\u001b[0m \u001b[0mall_estimators\u001b[0m\u001b[0;34m\u001b[0m\u001b[0;34m\u001b[0m\u001b[0m\n\u001b[0;32m---> 25\u001b[0;31m \u001b[0;32mfrom\u001b[0m \u001b[0;34m.\u001b[0m\u001b[0mfixes\u001b[0m \u001b[0;32mimport\u001b[0m \u001b[0mparse_version\u001b[0m\u001b[0;34m,\u001b[0m \u001b[0mthreadpool_info\u001b[0m\u001b[0;34m\u001b[0m\u001b[0;34m\u001b[0m\u001b[0m\n\u001b[0m\u001b[1;32m     26\u001b[0m \u001b[0;32mfrom\u001b[0m \u001b[0;34m.\u001b[0m\u001b[0m_estimator_html_repr\u001b[0m \u001b[0;32mimport\u001b[0m \u001b[0mestimator_html_repr\u001b[0m\u001b[0;34m\u001b[0m\u001b[0;34m\u001b[0m\u001b[0m\n\u001b[1;32m     27\u001b[0m from .validation import (\n",
            "\u001b[0;32m/usr/local/lib/python3.10/dist-packages/sklearn/utils/fixes.py\u001b[0m in \u001b[0;36m<module>\u001b[0;34m\u001b[0m\n\u001b[1;32m     17\u001b[0m \u001b[0;32mimport\u001b[0m \u001b[0mnumpy\u001b[0m \u001b[0;32mas\u001b[0m \u001b[0mnp\u001b[0m\u001b[0;34m\u001b[0m\u001b[0;34m\u001b[0m\u001b[0m\n\u001b[1;32m     18\u001b[0m \u001b[0;32mimport\u001b[0m \u001b[0mscipy\u001b[0m\u001b[0;34m\u001b[0m\u001b[0;34m\u001b[0m\u001b[0m\n\u001b[0;32m---> 19\u001b[0;31m \u001b[0;32mimport\u001b[0m \u001b[0mscipy\u001b[0m\u001b[0;34m.\u001b[0m\u001b[0mstats\u001b[0m\u001b[0;34m\u001b[0m\u001b[0;34m\u001b[0m\u001b[0m\n\u001b[0m\u001b[1;32m     20\u001b[0m \u001b[0;32mimport\u001b[0m \u001b[0mthreadpoolctl\u001b[0m\u001b[0;34m\u001b[0m\u001b[0;34m\u001b[0m\u001b[0m\n\u001b[1;32m     21\u001b[0m \u001b[0;34m\u001b[0m\u001b[0m\n",
            "\u001b[0;32m/usr/local/lib/python3.10/dist-packages/scipy/stats/__init__.py\u001b[0m in \u001b[0;36m<module>\u001b[0;34m\u001b[0m\n\u001b[1;32m    483\u001b[0m from ._warnings_errors import (ConstantInputWarning, NearConstantInputWarning,\n\u001b[1;32m    484\u001b[0m                                DegenerateDataWarning, FitError)\n\u001b[0;32m--> 485\u001b[0;31m \u001b[0;32mfrom\u001b[0m \u001b[0;34m.\u001b[0m\u001b[0m_stats_py\u001b[0m \u001b[0;32mimport\u001b[0m \u001b[0;34m*\u001b[0m\u001b[0;34m\u001b[0m\u001b[0;34m\u001b[0m\u001b[0m\n\u001b[0m\u001b[1;32m    486\u001b[0m \u001b[0;32mfrom\u001b[0m \u001b[0;34m.\u001b[0m\u001b[0m_variation\u001b[0m \u001b[0;32mimport\u001b[0m \u001b[0mvariation\u001b[0m\u001b[0;34m\u001b[0m\u001b[0;34m\u001b[0m\u001b[0m\n\u001b[1;32m    487\u001b[0m \u001b[0;32mfrom\u001b[0m \u001b[0;34m.\u001b[0m\u001b[0mdistributions\u001b[0m \u001b[0;32mimport\u001b[0m \u001b[0;34m*\u001b[0m\u001b[0;34m\u001b[0m\u001b[0;34m\u001b[0m\u001b[0m\n",
            "\u001b[0;32m/usr/local/lib/python3.10/dist-packages/scipy/stats/_stats_py.py\u001b[0m in \u001b[0;36m<module>\u001b[0;34m\u001b[0m\n\u001b[1;32m     35\u001b[0m \u001b[0;32mfrom\u001b[0m \u001b[0mnumpy\u001b[0m \u001b[0;32mimport\u001b[0m \u001b[0marray\u001b[0m\u001b[0;34m,\u001b[0m \u001b[0masarray\u001b[0m\u001b[0;34m,\u001b[0m \u001b[0mma\u001b[0m\u001b[0;34m\u001b[0m\u001b[0;34m\u001b[0m\u001b[0m\n\u001b[1;32m     36\u001b[0m \u001b[0;32mfrom\u001b[0m \u001b[0mnumpy\u001b[0m\u001b[0;34m.\u001b[0m\u001b[0mlib\u001b[0m \u001b[0;32mimport\u001b[0m \u001b[0mNumpyVersion\u001b[0m\u001b[0;34m\u001b[0m\u001b[0;34m\u001b[0m\u001b[0m\n\u001b[0;32m---> 37\u001b[0;31m \u001b[0;32mfrom\u001b[0m \u001b[0mnumpy\u001b[0m\u001b[0;34m.\u001b[0m\u001b[0mtesting\u001b[0m \u001b[0;32mimport\u001b[0m \u001b[0msuppress_warnings\u001b[0m\u001b[0;34m\u001b[0m\u001b[0;34m\u001b[0m\u001b[0m\n\u001b[0m\u001b[1;32m     38\u001b[0m \u001b[0;34m\u001b[0m\u001b[0m\n\u001b[1;32m     39\u001b[0m \u001b[0;32mfrom\u001b[0m \u001b[0mscipy\u001b[0m\u001b[0;34m.\u001b[0m\u001b[0mspatial\u001b[0m\u001b[0;34m.\u001b[0m\u001b[0mdistance\u001b[0m \u001b[0;32mimport\u001b[0m \u001b[0mcdist\u001b[0m\u001b[0;34m\u001b[0m\u001b[0;34m\u001b[0m\u001b[0m\n",
            "\u001b[0;32m/usr/local/lib/python3.10/dist-packages/numpy/testing/__init__.py\u001b[0m in \u001b[0;36m<module>\u001b[0;34m\u001b[0m\n\u001b[1;32m      9\u001b[0m \u001b[0;34m\u001b[0m\u001b[0m\n\u001b[1;32m     10\u001b[0m \u001b[0;32mfrom\u001b[0m \u001b[0;34m.\u001b[0m \u001b[0;32mimport\u001b[0m \u001b[0m_private\u001b[0m\u001b[0;34m\u001b[0m\u001b[0;34m\u001b[0m\u001b[0m\n\u001b[0;32m---> 11\u001b[0;31m \u001b[0;32mfrom\u001b[0m \u001b[0;34m.\u001b[0m\u001b[0m_private\u001b[0m\u001b[0;34m.\u001b[0m\u001b[0mutils\u001b[0m \u001b[0;32mimport\u001b[0m \u001b[0;34m*\u001b[0m\u001b[0;34m\u001b[0m\u001b[0;34m\u001b[0m\u001b[0m\n\u001b[0m\u001b[1;32m     12\u001b[0m \u001b[0;32mfrom\u001b[0m \u001b[0;34m.\u001b[0m\u001b[0m_private\u001b[0m\u001b[0;34m.\u001b[0m\u001b[0mutils\u001b[0m \u001b[0;32mimport\u001b[0m \u001b[0;34m(\u001b[0m\u001b[0m_assert_valid_refcount\u001b[0m\u001b[0;34m,\u001b[0m \u001b[0m_gen_alignment_data\u001b[0m\u001b[0;34m)\u001b[0m\u001b[0;34m\u001b[0m\u001b[0;34m\u001b[0m\u001b[0m\n\u001b[1;32m     13\u001b[0m \u001b[0;32mfrom\u001b[0m \u001b[0;34m.\u001b[0m\u001b[0m_private\u001b[0m \u001b[0;32mimport\u001b[0m \u001b[0mextbuild\u001b[0m\u001b[0;34m\u001b[0m\u001b[0;34m\u001b[0m\u001b[0m\n",
            "\u001b[0;32m/usr/local/lib/python3.10/dist-packages/numpy/testing/_private/utils.py\u001b[0m in \u001b[0;36m<module>\u001b[0;34m\u001b[0m\n\u001b[1;32m    411\u001b[0m \u001b[0;34m\u001b[0m\u001b[0m\n\u001b[1;32m    412\u001b[0m \u001b[0;34m\u001b[0m\u001b[0m\n\u001b[0;32m--> 413\u001b[0;31m \u001b[0;34m@\u001b[0m\u001b[0mnp\u001b[0m\u001b[0;34m.\u001b[0m\u001b[0m_no_nep50_warning\u001b[0m\u001b[0;34m(\u001b[0m\u001b[0;34m)\u001b[0m\u001b[0;34m\u001b[0m\u001b[0;34m\u001b[0m\u001b[0m\n\u001b[0m\u001b[1;32m    414\u001b[0m \u001b[0;32mdef\u001b[0m \u001b[0massert_almost_equal\u001b[0m\u001b[0;34m(\u001b[0m\u001b[0mactual\u001b[0m\u001b[0;34m,\u001b[0m \u001b[0mdesired\u001b[0m\u001b[0;34m,\u001b[0m \u001b[0mdecimal\u001b[0m\u001b[0;34m=\u001b[0m\u001b[0;36m7\u001b[0m\u001b[0;34m,\u001b[0m \u001b[0merr_msg\u001b[0m\u001b[0;34m=\u001b[0m\u001b[0;34m''\u001b[0m\u001b[0;34m,\u001b[0m \u001b[0mverbose\u001b[0m\u001b[0;34m=\u001b[0m\u001b[0;32mTrue\u001b[0m\u001b[0;34m)\u001b[0m\u001b[0;34m:\u001b[0m\u001b[0;34m\u001b[0m\u001b[0;34m\u001b[0m\u001b[0m\n\u001b[1;32m    415\u001b[0m     \"\"\"\n",
            "\u001b[0;32m/usr/local/lib/python3.10/dist-packages/numpy/__init__.py\u001b[0m in \u001b[0;36m__getattr__\u001b[0;34m(attr)\u001b[0m\n\u001b[1;32m    313\u001b[0m             \u001b[0;32mraise\u001b[0m \u001b[0mAttributeError\u001b[0m\u001b[0;34m(\u001b[0m\u001b[0m__former_attrs__\u001b[0m\u001b[0;34m[\u001b[0m\u001b[0mattr\u001b[0m\u001b[0;34m]\u001b[0m\u001b[0;34m)\u001b[0m\u001b[0;34m\u001b[0m\u001b[0;34m\u001b[0m\u001b[0m\n\u001b[1;32m    314\u001b[0m \u001b[0;34m\u001b[0m\u001b[0m\n\u001b[0;32m--> 315\u001b[0;31m         \u001b[0;32mif\u001b[0m \u001b[0mattr\u001b[0m \u001b[0;34m==\u001b[0m \u001b[0;34m'testing'\u001b[0m\u001b[0;34m:\u001b[0m\u001b[0;34m\u001b[0m\u001b[0;34m\u001b[0m\u001b[0m\n\u001b[0m\u001b[1;32m    316\u001b[0m             \u001b[0;32mimport\u001b[0m \u001b[0mnumpy\u001b[0m\u001b[0;34m.\u001b[0m\u001b[0mtesting\u001b[0m \u001b[0;32mas\u001b[0m \u001b[0mtesting\u001b[0m\u001b[0;34m\u001b[0m\u001b[0;34m\u001b[0m\u001b[0m\n\u001b[1;32m    317\u001b[0m             \u001b[0;32mreturn\u001b[0m \u001b[0mtesting\u001b[0m\u001b[0;34m\u001b[0m\u001b[0;34m\u001b[0m\u001b[0m\n",
            "\u001b[0;31mAttributeError\u001b[0m: module 'numpy' has no attribute '_no_nep50_warning'"
          ]
        }
      ],
      "source": [
        "!pip install transformers\n",
        "!pip install hazm\n",
        "import pandas as pd\n",
        "import os\n",
        "import hazm as h\n",
        "from hazm import *\n",
        "import re\n",
        "import string\n",
        "import numpy as np\n",
        "from scipy import spatial\n",
        "\n",
        "normalizer = Normalizer()\n",
        "\n",
        "from transformers import BertModel\n",
        "\n",
        "model = BertModel.from_pretrained('HooshvareLab/bert-fa-base-uncased-clf-persiannews',\n",
        "                                  output_hidden_states = True, # Whether the model returns all hidden-states.\n",
        "                                  )\n",
        "model.eval()\n",
        "\n",
        "import torch\n",
        "\n",
        "# If there's a GPU available...\n",
        "if torch.cuda.is_available():\n",
        "\n",
        "    # Tell PyTorch to use the GPU.\n",
        "    device = torch.device(\"cuda\")\n",
        "\n",
        "    print('There are %d GPU(s) available.' % torch.cuda.device_count())\n",
        "\n",
        "    print('We will use the GPU:', torch.cuda.get_device_name(0))\n",
        "\n",
        "# If not...\n",
        "else:\n",
        "    print('No GPU available, using the CPU instead.')\n",
        "    device = torch.device(\"cpu\")\n",
        "\n",
        "from transformers import BertTokenizer\n",
        "\n",
        "print('Loading BERT tokenizer...')\n",
        "tokenizer = BertTokenizer.from_pretrained('HooshvareLab/bert-fa-base-uncased-clf-persiannews', do_lower_case=True)"
      ]
    },
    {
      "cell_type": "code",
      "source": [
        "from google.colab import files\n",
        "uploaded = files.upload()"
      ],
      "metadata": {
        "colab": {
          "resources": {
            "http://localhost:8080/nbextensions/google.colab/files.js": {
              "data": "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",
              "ok": true,
              "headers": [
                [
                  "content-type",
                  "application/javascript"
                ]
              ],
              "status": 200,
              "status_text": ""
            }
          },
          "base_uri": "https://localhost:8080/",
          "height": 350
        },
        "id": "zPemq68kh29S",
        "outputId": "9daf3449-a975-43c9-bda9-3212ee7139c8"
      },
      "execution_count": null,
      "outputs": [
        {
          "output_type": "display_data",
          "data": {
            "text/plain": [
              "<IPython.core.display.HTML object>"
            ],
            "text/html": [
              "\n",
              "     <input type=\"file\" id=\"files-75978388-d5da-442b-b674-b08b871f8db0\" name=\"files[]\" multiple disabled\n",
              "        style=\"border:none\" />\n",
              "     <output id=\"result-75978388-d5da-442b-b674-b08b871f8db0\">\n",
              "      Upload widget is only available when the cell has been executed in the\n",
              "      current browser session. Please rerun this cell to enable.\n",
              "      </output>\n",
              "      <script src=\"/nbextensions/google.colab/files.js\"></script> "
            ]
          },
          "metadata": {}
        },
        {
          "output_type": "error",
          "ename": "KeyboardInterrupt",
          "evalue": "ignored",
          "traceback": [
            "\u001b[0;31m---------------------------------------------------------------------------\u001b[0m",
            "\u001b[0;31mKeyboardInterrupt\u001b[0m                         Traceback (most recent call last)",
            "\u001b[0;32m<ipython-input-2-21dc3c638f66>\u001b[0m in \u001b[0;36m<module>\u001b[0;34m\u001b[0m\n\u001b[1;32m      1\u001b[0m \u001b[0;32mfrom\u001b[0m \u001b[0mgoogle\u001b[0m\u001b[0;34m.\u001b[0m\u001b[0mcolab\u001b[0m \u001b[0;32mimport\u001b[0m \u001b[0mfiles\u001b[0m\u001b[0;34m\u001b[0m\u001b[0;34m\u001b[0m\u001b[0m\n\u001b[0;32m----> 2\u001b[0;31m \u001b[0muploaded\u001b[0m \u001b[0;34m=\u001b[0m \u001b[0mfiles\u001b[0m\u001b[0;34m.\u001b[0m\u001b[0mupload\u001b[0m\u001b[0;34m(\u001b[0m\u001b[0;34m)\u001b[0m\u001b[0;34m\u001b[0m\u001b[0;34m\u001b[0m\u001b[0m\n\u001b[0m",
            "\u001b[0;32m/usr/local/lib/python3.7/dist-packages/google/colab/files.py\u001b[0m in \u001b[0;36mupload\u001b[0;34m()\u001b[0m\n\u001b[1;32m     39\u001b[0m   \"\"\"\n\u001b[1;32m     40\u001b[0m \u001b[0;34m\u001b[0m\u001b[0m\n\u001b[0;32m---> 41\u001b[0;31m   \u001b[0muploaded_files\u001b[0m \u001b[0;34m=\u001b[0m \u001b[0m_upload_files\u001b[0m\u001b[0;34m(\u001b[0m\u001b[0mmultiple\u001b[0m\u001b[0;34m=\u001b[0m\u001b[0;32mTrue\u001b[0m\u001b[0;34m)\u001b[0m\u001b[0;34m\u001b[0m\u001b[0;34m\u001b[0m\u001b[0m\n\u001b[0m\u001b[1;32m     42\u001b[0m   \u001b[0;31m# Mapping from original filename to filename as saved locally.\u001b[0m\u001b[0;34m\u001b[0m\u001b[0;34m\u001b[0m\u001b[0;34m\u001b[0m\u001b[0m\n\u001b[1;32m     43\u001b[0m   \u001b[0mlocal_filenames\u001b[0m \u001b[0;34m=\u001b[0m \u001b[0mdict\u001b[0m\u001b[0;34m(\u001b[0m\u001b[0;34m)\u001b[0m\u001b[0;34m\u001b[0m\u001b[0;34m\u001b[0m\u001b[0m\n",
            "\u001b[0;32m/usr/local/lib/python3.7/dist-packages/google/colab/files.py\u001b[0m in \u001b[0;36m_upload_files\u001b[0;34m(multiple)\u001b[0m\n\u001b[1;32m    116\u001b[0m   result = _output.eval_js(\n\u001b[1;32m    117\u001b[0m       'google.colab._files._uploadFiles(\"{input_id}\", \"{output_id}\")'.format(\n\u001b[0;32m--> 118\u001b[0;31m           input_id=input_id, output_id=output_id))\n\u001b[0m\u001b[1;32m    119\u001b[0m   \u001b[0mfiles\u001b[0m \u001b[0;34m=\u001b[0m \u001b[0m_collections\u001b[0m\u001b[0;34m.\u001b[0m\u001b[0mdefaultdict\u001b[0m\u001b[0;34m(\u001b[0m\u001b[0mbytes\u001b[0m\u001b[0;34m)\u001b[0m\u001b[0;34m\u001b[0m\u001b[0;34m\u001b[0m\u001b[0m\n\u001b[1;32m    120\u001b[0m \u001b[0;34m\u001b[0m\u001b[0m\n",
            "\u001b[0;32m/usr/local/lib/python3.7/dist-packages/google/colab/output/_js.py\u001b[0m in \u001b[0;36meval_js\u001b[0;34m(script, ignore_result, timeout_sec)\u001b[0m\n\u001b[1;32m     38\u001b[0m   \u001b[0;32mif\u001b[0m \u001b[0mignore_result\u001b[0m\u001b[0;34m:\u001b[0m\u001b[0;34m\u001b[0m\u001b[0;34m\u001b[0m\u001b[0m\n\u001b[1;32m     39\u001b[0m     \u001b[0;32mreturn\u001b[0m\u001b[0;34m\u001b[0m\u001b[0;34m\u001b[0m\u001b[0m\n\u001b[0;32m---> 40\u001b[0;31m   \u001b[0;32mreturn\u001b[0m \u001b[0m_message\u001b[0m\u001b[0;34m.\u001b[0m\u001b[0mread_reply_from_input\u001b[0m\u001b[0;34m(\u001b[0m\u001b[0mrequest_id\u001b[0m\u001b[0;34m,\u001b[0m \u001b[0mtimeout_sec\u001b[0m\u001b[0;34m)\u001b[0m\u001b[0;34m\u001b[0m\u001b[0;34m\u001b[0m\u001b[0m\n\u001b[0m\u001b[1;32m     41\u001b[0m \u001b[0;34m\u001b[0m\u001b[0m\n\u001b[1;32m     42\u001b[0m \u001b[0;34m\u001b[0m\u001b[0m\n",
            "\u001b[0;32m/usr/local/lib/python3.7/dist-packages/google/colab/_message.py\u001b[0m in \u001b[0;36mread_reply_from_input\u001b[0;34m(message_id, timeout_sec)\u001b[0m\n\u001b[1;32m     95\u001b[0m     \u001b[0mreply\u001b[0m \u001b[0;34m=\u001b[0m \u001b[0m_read_next_input_message\u001b[0m\u001b[0;34m(\u001b[0m\u001b[0;34m)\u001b[0m\u001b[0;34m\u001b[0m\u001b[0;34m\u001b[0m\u001b[0m\n\u001b[1;32m     96\u001b[0m     \u001b[0;32mif\u001b[0m \u001b[0mreply\u001b[0m \u001b[0;34m==\u001b[0m \u001b[0m_NOT_READY\u001b[0m \u001b[0;32mor\u001b[0m \u001b[0;32mnot\u001b[0m \u001b[0misinstance\u001b[0m\u001b[0;34m(\u001b[0m\u001b[0mreply\u001b[0m\u001b[0;34m,\u001b[0m \u001b[0mdict\u001b[0m\u001b[0;34m)\u001b[0m\u001b[0;34m:\u001b[0m\u001b[0;34m\u001b[0m\u001b[0;34m\u001b[0m\u001b[0m\n\u001b[0;32m---> 97\u001b[0;31m       \u001b[0mtime\u001b[0m\u001b[0;34m.\u001b[0m\u001b[0msleep\u001b[0m\u001b[0;34m(\u001b[0m\u001b[0;36m0.025\u001b[0m\u001b[0;34m)\u001b[0m\u001b[0;34m\u001b[0m\u001b[0;34m\u001b[0m\u001b[0m\n\u001b[0m\u001b[1;32m     98\u001b[0m       \u001b[0;32mcontinue\u001b[0m\u001b[0;34m\u001b[0m\u001b[0;34m\u001b[0m\u001b[0m\n\u001b[1;32m     99\u001b[0m     if (reply.get('type') == 'colab_reply' and\n",
            "\u001b[0;31mKeyboardInterrupt\u001b[0m: "
          ]
        }
      ]
    },
    {
      "cell_type": "code",
      "source": [
        "\n",
        "heteronyms = []\n",
        "with open('available_heteronyms.txt','r') as file:\n",
        "\n",
        "    # reading each line\n",
        "    for line in file:\n",
        "\n",
        "        # reading each word\n",
        "        for word in line.split():\n",
        "\n",
        "            # displaying the words\n",
        "            heteronyms.append(word)\n",
        "\n",
        "print(heteronyms)"
      ],
      "metadata": {
        "colab": {
          "base_uri": "https://localhost:8080/"
        },
        "id": "rusyD5-yf-bQ",
        "outputId": "c18f4deb-be31-48a8-a61e-ec56ae3d8b7f"
      },
      "execution_count": null,
      "outputs": [
        {
          "output_type": "stream",
          "name": "stdout",
          "text": [
            "['برنده', 'سرور', 'دوره', 'سر', 'مجاز', 'مجازی', 'برند', 'ابر', 'جست', 'خرد', 'خلق', 'درک', 'فرار', 'ماده', 'محقق', 'دین']\n"
          ]
        }
      ]
    },
    {
      "cell_type": "code",
      "source": [
        "from google.colab import files\n",
        "uploaded = files.upload()"
      ],
      "metadata": {
        "colab": {
          "resources": {
            "http://localhost:8080/nbextensions/google.colab/files.js": {
              "data": "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",
              "ok": true,
              "headers": [
                [
                  "content-type",
                  "application/javascript"
                ]
              ],
              "status": 200,
              "status_text": ""
            }
          },
          "base_uri": "https://localhost:8080/",
          "height": 73
        },
        "id": "DqA9TM67imHB",
        "outputId": "7a86df66-187e-4d6e-ef1a-41b503c02dfd"
      },
      "execution_count": null,
      "outputs": [
        {
          "output_type": "display_data",
          "data": {
            "text/html": [
              "\n",
              "     <input type=\"file\" id=\"files-62540be1-ae37-412f-8df5-c704b000d658\" name=\"files[]\" multiple disabled\n",
              "        style=\"border:none\" />\n",
              "     <output id=\"result-62540be1-ae37-412f-8df5-c704b000d658\">\n",
              "      Upload widget is only available when the cell has been executed in the\n",
              "      current browser session. Please rerun this cell to enable.\n",
              "      </output>\n",
              "      <script src=\"/nbextensions/google.colab/files.js\"></script> "
            ],
            "text/plain": [
              "<IPython.core.display.HTML object>"
            ]
          },
          "metadata": {}
        },
        {
          "output_type": "stream",
          "name": "stdout",
          "text": [
            "Saving sentences_for_heteronyms.txt to sentences_for_heteronyms.txt\n"
          ]
        }
      ]
    },
    {
      "cell_type": "code",
      "source": [
        "heter_dict = dict()\n",
        "\n",
        "for heter in heteronyms:\n",
        "  heter_dict[heter] = []\n",
        "\n",
        "with open('sentence_for_heter.txt','r') as file:\n",
        "\n",
        "    # reading each line\n",
        "    for line in file:\n",
        "\n",
        "\n",
        "        words = []\n",
        "        # reading each word\n",
        "        for word in line.split():\n",
        "          words.append(word)\n",
        "        try:\n",
        "\n",
        "\n",
        "\n",
        "          heter_dict[words[0]].append(line[len(words[0]):])\n",
        "          print(words[0])\n",
        "        except:\n",
        "          pass\n",
        "\n",
        "          # print(word)\n",
        "\n",
        "print(heter_dict)\n",
        "\n",
        "\n",
        "\n",
        "            # displaying the words\n"
      ],
      "metadata": {
        "colab": {
          "base_uri": "https://localhost:8080/"
        },
        "id": "HgXEs-1MtSg6",
        "outputId": "f0a127b4-b66b-4f32-8b1e-04ce35b53ed7"
      },
      "execution_count": null,
      "outputs": [
        {
          "output_type": "stream",
          "name": "stdout",
          "text": [
            "ابر\n",
            "برنده\n",
            "برنده\n",
            "جست\n",
            "جست\n",
            "خرد\n",
            "خرد\n",
            "خلق\n",
            "خلق\n",
            "درک\n",
            "درک\n",
            "فرار\n",
            "فرار\n",
            "ماده\n",
            "ماده\n",
            "محقق\n",
            "محقق\n",
            "دین\n",
            "دین\n",
            "سرور\n",
            "سرور\n",
            "سرور\n",
            "دوره\n",
            "دوره\n",
            "سر\n",
            "سر\n",
            "سر\n",
            "مجاز\n",
            "مجاز\n",
            "مجازی\n",
            "مجازی\n",
            "{'برنده': [' : پس از یک رقابت مهیج در نهایت مرد بلند قد برنده مسابقه شد - فردی برنده است که بیش از دیگران تلاش کند - وقتی زیاد تمرین کنی میتونی برنده شی _ بَرَنْدِ\\n', ' : آن خنجر بسیار برنده بوده و خطرناک می باشد - او توانست با یک چاقوی کاملا برنده میوه ها را تکه تکه کند - اره فلز باید برنده تر از اره چوب باشد _ بُرَنْدِ\\n'], 'سرور': [' : سرورهای شبکه ی ما غیر فعال اند – ما برای برنامه نویسی بهتر به اپلیکیشن تحت سرور نیاز داریم – برای بهبود سرور بایستی زیرساخت را ارتقا داد _ سِرْوِرْ\\n', ' : آن بزرگ مرد سرور ماست – عالیجناب در تمامی مجالس بزرگ و سرور بوده اند – باید مراسمی برای سرور و سالار شهیدان برگزار شود _ سَرْوَرْ\\n', ' : شادی و سرور از موارد لازم در زندگی هر انسانی است – وی با سرور زیاد درخواست ما را پذیرفت – در تمامی مراحل درس خواندن علاوه بر تلاش زیاد سعی کن سرور زیادی داشته باشی _ سُرُورْ\\n'], 'دوره': [' : باید دوره برنامه نویسی پایتون را با موفقیت به اتمام برسانم – نیروی هوایی شامل چندین اسکادران می شود که هر یک دوره های عملیاتی خاص خود را دارند – امروزه دوره وسایل کلاسیک همانند ظروف مسی به اتمام رسیده است – عجب دوره زمانه ای شده _ دُوْرِهْ\\n', ' : وای چه قدر مدرسمون از خونمون دوره – وقتی میروم به دانشگاه حس می کنم مسافت نسبت به چیزی که فکر می کردم دوره – وقتی میخوای به هدفت برسی مهم نیست دوره یا نزدیکه – این شهرک لعنتی چه قدر نسبت به جاده دوره _ دُورِ\\n'], 'سر': [' : وای امروز سر من چه قدر درد می کنه – وقتی وارد خیابان اول شدی سر کوچه حتما بپیچ – وقتی ظروف چینی را تمیز کردی حتما سر شیر را محکم کن _ سَرْ\\n', ' : نباید سر من را با کسی بازگو کنی – جهان پر از سر های بسیار اعجاب انگیز است – هرگز مگوی از سر درون _ سِرْ\\n', ' : بعد از بی دقتی سر خوردم و افتادم داخل آب – به علت بارش برف سطح خیابان ها به شدت سر شده است – حواست باشه روی سطوح سر با دقت اسکیت بازی کنی _ سُرْ \\n'], 'مجاز': [' : در ادبیات فارسی مجاز یکی از آرایه های زیبای شعر و متن می باشد – هر زمان خواستی در نوشتن متن نمره بالایی بگیری از مجاز استفاده کن – او به دلیل استفاده بیش از حد از مجاز در دستنوشته های خود افراد را گمراه می کند _ مَجازْ\\n', ' : باید در محدوده مجاز رانندگی کنی – در امتحان استفاده از ماشین حساب مجاز نیست – مجاز بودن برخی آهنگ ها به دلیل نداشتن غنا می باشد _ مُجازْ\\n'], 'مجازی': [' : در فضای مجازی نباید واقع بینانه نگاه کرد – هر زمان خواستی در نوشتن متن نمره بالایی بگیری از مجازی نوشتن استفاده کن – تخیلات وی به گونه ای است که سیستم ذهن او را مجازی می کند _ مَجازِی\\n', ' : باید در محدوده مجاز رانندگی کنی – در امتحان استفاده از ماشین حساب مجاز نیست – مجاز بودن برخی آهنگ ها به دلیل نداشتن غنا می باشد _ مُجازِی\\n'], 'برند': [], 'ابر': [' : آن بزرگوار ابر مردی بود برای خودش - فیلم های ابر قهرمانی معمولا پایان حماسی دارند - پس از آتش سوزی عظیم مشخص گردید یک ابر آتش جنگل را سوزانده است _ اَبَرْ\\n'], 'جست': [' : خرگوش بازیگوش از دست شکارچی جست - پس از فرار از دست پلیس در نهایت دزد از زندان جست - با تعطیل شدن دانشگاه وی از دست امتحان جست _ جَسْتْ \\n', ' : باید گنج خود را در محلی دیگر جست - پیدا کردن راه حاصل جست و جوی فراوان است - وی کیف گمشده خود را در شهر می جست _ جُسْتْ\\n'], 'خرد': [' : خرد و دانش وی بسیار ستودنی است - آن استاد خرد بالایی دارد - خرد یکی از گرانبها ترین دارایی های یک انسان است _ خِرَدْ\\n', ' : اقتصاد خرد و کلان در کشور ما از موارد زیرساختی به شمار می روند - او به کمک چاقو میوه ها را خرد  کرد - سیب زمینی خرد شده بسیار مقوی است _ خُرْدْ\\n'], 'خلق': [' : آن نقاش اثرات بسیار جذابی را خلق کرد - همیشه سعی کن به خلق خدا نیکی کنی - ارتش خلق چین توانایی مقابله با آمریکا را ندارد _ خَلْقْ\\n', ' : خلق وی بسیار نیکو بوده و همیشه خندان است - پسر کوچکتر او بسیار خوش خلق تر از خودش بود - هرگز سعی نکن خلق بد داشته باشی _ خُلْقْ\\n'], 'درک': [' : امروزه کودکان درک بیشتری از مشکلات بزرگسالان دارند - وقتی به مشکلات کسی گوش می دهی سعی کن درک اش کنی - اون در سن 30 سالگی به میزان درک خوبی از پیرامون خود رسیده - فهمیدن وی نشان از درک بالای او دارد _ دَرْکْ\\n', ' : پس از درگیری شدید یکی از آن ها به دیگری گفت برو به درک - به درک واصل شدن دست کمی از جهنم ندارد - اگر بازم درس نخوندی درک که نمیخونی _ دَرَکْ\\n'], 'فرار': [' : پس از قرارگیری در پشت خطوط دشمن وی به ناچار فرار کرد - نپذیرفتن این اتفاق نوعی فرار از واقعیت است - وقتی رفتی سربازی سعی نکن فرار کنی و محکم باش - وقتی خطر را احساس کردی به سرعت فرار کن _ فَرْارْ\\n', ' : در دمای اتاق این ماده کشف شده جدید بسیار فرار است - در دمای اتاق این ماده کشف شده جدید بسیار فرار است - مفاهیم جدید پیش از مرحله یادگیری فرار هستند - به کمک ماده ای فرار مثل الکل نمی توان آتش زیادی را درست کرد - مواد فرار به سرعت بخار می شوند _ فَرْرْارْ\\n'], 'ماده': [' : جانوران به دو دسته نر و ماده دسته بندی میشوند - در تولید مثل مهم ترین نقش را حیوانات ماده دارند - نر و ماده بودن سیم برق نشان از احتمال انفجار دارد - جنس ماده در حیوانات گاهی بزرگ تر از نر می باشد _ مْادِ\\n', ' : در علم فیزیک ماده به سه دسته تقسیم می شود - ماده مورد استفاده در واکنش شیمیایی بسیار مناسب به نظر می رسد - جنس ماده عامل مهمی در تعیین میزان مقاومت آن در برابر بار می باشد - ماده در حالت گاز کم ترین تراکم را دارد _ مْادْدِ\\n'], 'محقق': [' : دستاوردهای علمی زیادی در این حوزه محقق شده است - تلاش بسیار می تواند رسیدن به موفقیت های بلند مدت را محقق کند - محقق شدن دستاورد های بزرگ نیازمند برنامه ریزی دقیق است - محقق گشتن نمره بالا نیازمند استفاده از نرم افزار های مرتبط با درس است _ مُحَقَقْ\\n', ' : دانشگاه های کشور به محقق واقعی نیاز دارند - وی در حوزه مهندسی یک محقق شناخته شده است - محقق های دانشگاه تهران موفق به ساخت مواد انعطاف پذیر شدند - کسی که بتواند مرز های علم را جا به جا کند احتمالا یک محقق کار کشته است _ مُحَقِقْ\\n'], 'دین': [' : تمام تلاشم را میکنم تا دین خودم را بپردازم - باید دین خود را به عنوان فرضی واجب ادا کنم - تمامی زحمات وی از دید من یک نوع دین بر باقی مانده بر گردن من است _ دِیْنْ\\n', ' : در دنیا انواع مختلفی از دین و آیین وجود دارد - دین مسیحیت یکی از ادیان الهی است - جوانان باید با تحقیق دین خود را انتخاب کنند _ دْینْ\\n']}\n"
          ]
        }
      ]
    },
    {
      "cell_type": "code",
      "source": [
        "#newsentence = 'پرداخت دین از واجبات است'\n",
        "newsentence = 'یک عدد سرور در دیتاسنتر وجود دارد'\n",
        "\n",
        "\n",
        "\n",
        "new_words = newsentence.split()\n",
        "\n",
        "for word in new_words:\n",
        "  if word in heteronyms:\n",
        "    pronunciations = []\n",
        "    texts = []\n",
        "    texts.append(newsentence)\n",
        "    for sentence in heter_dict[word]:\n",
        "      s = sentence.split()\n",
        "      r_sentence = s[1:len(s)-2]\n",
        "      pronunciations.append(s[len(s)-1])\n",
        "      s_sentence = ''\n",
        "      for i in r_sentence:\n",
        "        if i != len(r_sentence)-1:\n",
        "          s_sentence = s_sentence + i + ' '\n",
        "        else:\n",
        "          s_sentence = s_sentence + i\n",
        "      texts.append(s_sentence)\n",
        "    allsegmenttensors = []\n",
        "    alltokens = []\n",
        "    for text in texts:\n",
        "      segments_ids = [1] * len(tokenizer.tokenize(text))\n",
        "      tokens_tensor = torch.tensor([tokenizer.convert_tokens_to_ids(tokenizer.tokenize(text))])\n",
        "      segments_tensors = torch.tensor([segments_ids])\n",
        "      alltokens.append(tokens_tensor)\n",
        "      allsegmenttensors.append(segments_tensors)\n",
        "    print(\"alltokens\")\n",
        "    print(alltokens)\n",
        "    print(\"allsegmenttensors\")\n",
        "    print(allsegmenttensors)\n",
        "\n",
        "    hiddens = []\n",
        "    for i in range(len(alltokens)):\n",
        "      with torch.no_grad():\n",
        "        outputs = model(alltokens[i], allsegmenttensors[i])\n",
        "        # Evaluating the model will return a different number of objects based on\n",
        "        # how it's  configured in the `from_pretrained` call earlier. In this case,\n",
        "        # becase we set `output_hidden_states = True`, the third item will be the\n",
        "        # hidden states from all layers. See the documentation for more details:\n",
        "        # https://huggingface.co/transformers/model_doc/bert.html#bertmodel\n",
        "        hidden_states = outputs[2]\n",
        "        hiddens.append(hidden_states)\n",
        "    print(len(hiddens))\n",
        "    #token_embeddings = []\n",
        "    summations = []\n",
        "    for hidden_states in hiddens:\n",
        "      token_embeddings = torch.stack(hidden_states, dim=0)\n",
        "      token_vecs = hidden_states[-2][0]\n",
        "      sentence_embedding = torch.mean(token_vecs, dim=0)\n",
        "      token_embeddings.size()\n",
        "      #print(token_embeddings.size())\n",
        "      token_embeddings = torch.squeeze(token_embeddings, dim=1)\n",
        "      token_embeddings.size()\n",
        "      token_embeddings = token_embeddings.permute(1,0,2)\n",
        "      token_vecs_sum = []\n",
        "      for token in token_embeddings:\n",
        "\n",
        "        # `token` is a [12 x 768] tensor\n",
        "\n",
        "        # Concatenate the vectors (that is, append them together) from the last\n",
        "        # four layers.\n",
        "        # Each layer vector is 768 values, so `cat_vec` is length 3,072.\n",
        "        # cat_vec = torch.cat((token[-1], token[-2], token[-3], token[-4]), dim=0)\n",
        "        sum_vec = torch.sum(token[-4:], dim=0)\n",
        "        token_vecs_sum.append(sum_vec)\n",
        "      summations.append(token_vecs_sum[-1])\n",
        "    print(summations[0])\n",
        "    results = []\n",
        "    for i in range(1,len(summations)):\n",
        "      results.append(1 - spatial.distance.cosine(np.array(summations[0]), np.array(summations[i])))\n",
        "      # print(results)\n",
        "    results = np.array(results)\n",
        "    maxElement = np.amax(results)\n",
        "    maxindex = np.where(results == np.amax(results))\n",
        "    print(pronunciations[int(maxindex[0][0])])\n",
        "    for n, i in enumerate(new_words):\n",
        "      if i == word:\n",
        "       new_words[n] = pronunciations[int(maxindex[0][0])]\n",
        "print(new_words)\n",
        "final_sentence = ''\n",
        "for i in new_words:\n",
        "    if i != len(new_words)-1:\n",
        "      final_sentence = final_sentence + i + ' '\n",
        "    else:\n",
        "      final_sentence = final_sentence + i\n",
        "\n",
        "print(final_sentence)\n",
        "print(texts)\n",
        "print(pronunciations)"
      ],
      "metadata": {
        "colab": {
          "base_uri": "https://localhost:8080/"
        },
        "id": "JhrQUiYkAzcN",
        "outputId": "9c2b58d3-0a51-4f6c-e27e-15f1b7c5c1a5"
      },
      "execution_count": null,
      "outputs": [
        {
          "output_type": "stream",
          "name": "stdout",
          "text": [
            "alltokens\n",
            "[tensor([[ 2829,  5444,  9258,  2786, 49093,  3022,  2924]]), tensor([[16970,  3864,  1442,  2964,  3268,  3205,  3145,  1869,  2964,  2831,\n",
            "          3329, 12035,  4109,  2789,  7494,  3671,  9258,  3422,  4314,  1869,\n",
            "          2831,  4475,  9258,  9913,  6669,  2803,  6769,  2974]]), tensor([[ 2808,  3167,  2999,  9258,  7983,  1869, 57006,  2786,  4479, 14938,\n",
            "          3167,  1379,  9258,  3225,  3145,  1869,  3013, 13191,  2831,  9258,\n",
            "          1379, 15107, 17314,  4004,  3073]]), tensor([[ 9126,  1379,  9258,  2791,  3907,  3842,  2786,  3351,  2937,  5061,\n",
            "          2806,  1869,  2931,  2799,  9258,  4216,  4905,  2964,  2803,  7213,\n",
            "          1869,  2786,  4479,  6029,  5969,  6388,  3947,  2801,  3743,  4216,\n",
            "          4789,  2860,  9258,  3406,  3151, 13951]])]\n",
            "allsegmenttensors\n",
            "[tensor([[1, 1, 1, 1, 1, 1, 1]]), tensor([[1, 1, 1, 1, 1, 1, 1, 1, 1, 1, 1, 1, 1, 1, 1, 1, 1, 1, 1, 1, 1, 1, 1, 1,\n",
            "         1, 1, 1, 1]]), tensor([[1, 1, 1, 1, 1, 1, 1, 1, 1, 1, 1, 1, 1, 1, 1, 1, 1, 1, 1, 1, 1, 1, 1, 1,\n",
            "         1]]), tensor([[1, 1, 1, 1, 1, 1, 1, 1, 1, 1, 1, 1, 1, 1, 1, 1, 1, 1, 1, 1, 1, 1, 1, 1,\n",
            "         1, 1, 1, 1, 1, 1, 1, 1, 1, 1, 1, 1]])]\n",
            "4\n",
            "torch.Size([13, 1, 7, 768])\n",
            "torch.Size([13, 1, 28, 768])\n",
            "torch.Size([13, 1, 25, 768])\n",
            "torch.Size([13, 1, 36, 768])\n",
            "tensor([-1.8244e+00,  1.3010e+00, -3.8848e+00,  3.0245e+00,  1.6869e+00,\n",
            "         4.3907e+00,  4.8807e+00, -4.4583e+00,  5.9724e+00, -3.7275e+00,\n",
            "         7.1416e+00, -1.7355e+00, -2.0256e+00,  4.0710e+00,  4.3790e+00,\n",
            "        -1.0519e+00,  1.4684e+00,  3.0804e+00, -1.4024e+00, -3.0261e+00,\n",
            "        -1.0884e+00, -2.0456e+00,  2.6005e+00, -2.7772e+00,  4.2348e+00,\n",
            "        -3.2323e+00,  2.2402e+00,  7.7082e-01,  2.2496e+00, -1.4453e+00,\n",
            "         6.0105e+00,  5.8815e+00,  9.8646e-02, -1.6693e+00,  1.5483e+00,\n",
            "        -4.4554e+00,  1.8719e+00,  3.9575e+00,  4.8197e+00, -5.3216e+00,\n",
            "         3.2980e+00, -6.0233e-02,  1.3036e+00,  6.5401e+00,  2.3081e+00,\n",
            "        -2.1918e-01,  5.6397e+00,  3.4282e+00,  2.2646e+00,  1.9973e+00,\n",
            "         8.4393e+00,  3.1218e+00, -3.2222e-01,  2.2471e+00,  1.5046e+00,\n",
            "         9.1936e-01, -3.6627e+00,  4.8350e+00,  3.8753e+00, -2.3857e+00,\n",
            "         1.8296e+00, -1.9621e+00, -4.3233e+00,  3.4279e+00,  1.5013e-01,\n",
            "         1.5949e+00,  3.7446e-01,  1.2132e+00,  3.0464e-01, -7.7182e+00,\n",
            "         8.3743e+00,  1.8704e+00, -2.4064e+00,  5.8507e+00, -5.7588e+00,\n",
            "         8.2099e-01,  7.0778e+00, -1.9211e+00,  6.4464e+00, -2.9978e+00,\n",
            "        -1.6387e+00,  5.9209e-01,  1.7677e+00,  8.4343e+00, -4.2818e+00,\n",
            "        -1.1813e-02, -1.6157e+00, -1.1884e+00, -6.7173e-01,  1.7566e+00,\n",
            "         1.5080e+00, -3.7459e+00,  3.8618e+00, -3.2777e+00, -4.3717e+00,\n",
            "         3.0574e+00, -5.4394e-02, -1.5914e+00,  2.7120e+00,  1.5025e+00,\n",
            "         7.0166e+00,  1.2191e+00,  3.8172e+00,  5.5403e+00,  2.5459e+00,\n",
            "         5.1537e+00,  1.1201e+00,  6.0904e+00,  7.5683e-01,  4.9123e-02,\n",
            "        -1.9138e+00, -4.8841e-01, -4.6995e-01,  4.3830e+00, -7.9159e-02,\n",
            "        -6.1012e-01, -1.3396e+00, -2.9882e-01, -1.1260e+00, -8.5773e+00,\n",
            "         5.3695e+00, -5.5604e+00,  4.5833e+00, -1.9385e+00,  4.8119e-01,\n",
            "         5.1668e-02, -4.1555e+00, -2.6866e+00, -4.0937e+00,  3.5315e+00,\n",
            "         5.2924e-01,  4.2016e+00, -1.7034e+00,  6.2788e-01,  2.8180e+00,\n",
            "        -3.7610e+00, -1.5594e+00, -2.5574e+00,  3.0419e+00, -4.5465e+00,\n",
            "        -1.0599e+00, -3.0073e+00,  6.8921e+00,  1.2794e+00, -2.5439e+00,\n",
            "         4.7520e+00,  2.9486e+00,  8.6959e-01, -2.6415e+00, -1.8694e+00,\n",
            "         3.0695e+00, -2.4109e+00,  8.8387e-02,  1.8395e+00, -3.0959e-01,\n",
            "        -2.3966e+00,  2.4749e-01, -9.0131e-01, -2.9910e+00, -8.2232e-01,\n",
            "        -1.1263e+00, -1.1619e+00, -6.1423e+00, -1.6552e+00,  1.0849e+00,\n",
            "        -1.3794e+00,  3.2332e+00, -5.1144e+00,  1.5082e+00,  6.1267e+00,\n",
            "        -5.2845e+00, -2.5679e+00, -3.7297e+00,  7.5329e+00, -3.9027e+00,\n",
            "         3.3567e+00, -2.1757e+00,  2.5655e+00, -8.3764e-01,  1.7589e+00,\n",
            "         4.3614e+00,  1.6623e+00, -3.5384e-01, -1.0554e+00, -4.7718e+00,\n",
            "        -4.8662e-01, -3.2388e+00,  8.7537e+00, -3.6000e-01,  2.0218e+00,\n",
            "        -5.3978e-01, -4.6470e+00, -3.3557e+00,  1.2228e+00,  1.3459e+00,\n",
            "        -3.9334e+00,  4.4870e-01, -1.6688e+00,  1.8135e+00,  3.0878e+00,\n",
            "         1.4191e+00, -8.0819e+00,  1.3809e+00,  4.8641e+00, -1.7534e+00,\n",
            "        -7.0304e+00, -1.6141e+00, -8.7780e-01, -7.1069e-01, -1.5787e+00,\n",
            "        -2.8757e+00,  2.2258e+00,  4.8205e+00, -3.3618e+00,  2.2016e+00,\n",
            "         2.5153e-01,  6.5013e+00,  3.2001e+00, -1.2126e+00, -2.1709e+00,\n",
            "        -1.7950e+00, -3.0625e+00, -5.5111e+00, -3.3227e+00,  1.7098e+00,\n",
            "        -5.8347e+00,  1.0183e+00, -7.1490e+00,  1.0590e+00,  1.1249e+00,\n",
            "        -1.2824e+00, -2.6509e-02,  5.4414e+00,  9.8354e-01, -1.4404e+00,\n",
            "        -3.0288e+00,  2.8961e+00,  1.7620e+00, -5.2407e+00, -5.9690e-01,\n",
            "         3.6008e+00,  3.3617e+00, -1.0547e+00, -2.4108e+00, -2.1413e+00,\n",
            "         1.0631e+00, -6.6496e+00,  3.2652e+00,  3.4928e+00, -1.7894e+00,\n",
            "        -7.4622e-01, -4.3304e+00,  3.8575e+00, -1.7215e+00,  1.9665e+00,\n",
            "        -1.1242e+00, -1.1396e+00, -2.0682e+00,  4.2382e-01, -3.0382e+00,\n",
            "         2.3245e+00,  2.4052e-01,  7.0748e+00, -6.5405e-01,  2.7144e+00,\n",
            "         4.3067e-01, -2.9119e+00,  1.7586e+00,  2.7092e+00, -1.4383e+00,\n",
            "        -2.4759e+00, -8.2953e-01,  7.1780e-03, -2.0227e-01, -3.0522e+00,\n",
            "        -1.5935e+00, -2.6054e-01, -3.1693e+00, -1.3513e+00, -2.5829e+00,\n",
            "        -2.0509e+00, -7.5633e-01, -1.9798e+00, -1.6153e+00, -2.2794e+00,\n",
            "         2.4356e+00,  1.3648e-01, -1.1360e+00,  6.5206e-01,  2.4810e+00,\n",
            "        -3.5915e+00, -9.8816e+00, -2.6390e+00,  1.9727e+00, -2.9703e-01,\n",
            "        -4.2453e-01, -3.7533e+00,  1.0468e+01, -1.0122e+00,  4.1824e-01,\n",
            "        -3.1296e+00, -3.1817e-01, -2.9720e+00, -1.3104e+00,  1.2423e+00,\n",
            "         4.6483e-01, -9.8104e-01, -6.9545e+00,  2.7961e+00,  2.3205e+00,\n",
            "        -1.7254e+00, -3.6559e-01,  1.2691e+00, -8.0893e-01, -7.9979e-01,\n",
            "        -2.5477e-01, -5.6909e-01, -6.6445e+00, -1.8351e+00, -2.0097e+00,\n",
            "        -2.5810e+00,  3.5171e-01, -7.5855e-01, -4.4608e+00, -3.2138e+00,\n",
            "         2.2199e+00,  2.6191e-01,  4.1149e+00,  4.6129e+00,  4.8525e+00,\n",
            "        -6.4894e+00, -9.6827e-01, -1.1037e+00, -1.1594e+00, -3.2338e+00,\n",
            "        -2.2743e+00, -2.2331e+00, -4.3490e+00, -2.8283e+00, -4.5753e-01,\n",
            "         6.7525e+00,  1.3825e+00,  4.5772e-01,  1.8869e+00, -7.0238e-01,\n",
            "         2.7030e+00, -1.2283e+01,  2.2482e+00,  3.1593e+00, -2.4247e+00,\n",
            "         1.5022e+00,  3.7007e+00, -4.3813e+00,  1.2701e+00,  1.8597e+00,\n",
            "         2.2848e-03, -1.5001e+00,  3.0139e+00,  2.8813e+00,  2.0695e-01,\n",
            "        -2.3012e+00,  1.0640e+00, -2.0541e+00, -2.2201e+00,  1.2576e+00,\n",
            "         4.5677e+00,  1.1929e+00, -7.4836e+00, -8.1731e+00, -2.4035e+00,\n",
            "        -6.0783e+00,  7.9192e+00,  2.8661e+00, -4.5468e+00,  7.2217e-01,\n",
            "         2.1657e+00, -2.2134e+00, -2.2380e+00,  3.1734e+00, -7.4774e-01,\n",
            "        -1.4080e+00, -2.3735e+00,  6.0918e+00,  3.6127e+00, -2.9593e+00,\n",
            "        -1.5197e+00,  2.9019e-01,  4.8273e+00,  1.9523e+00, -2.4667e+00,\n",
            "        -4.4518e-01,  8.4136e-01,  1.7002e+00, -1.4269e+00,  6.5641e+00,\n",
            "         4.8291e+00,  9.0238e-01,  3.7594e+00, -9.3707e-01, -1.9747e+00,\n",
            "        -4.1055e+00,  5.8283e+00, -2.6013e+00, -1.3439e+00, -1.5643e+00,\n",
            "        -3.0410e-01, -1.7110e+00,  3.2556e-01,  6.0263e-02,  4.0981e+00,\n",
            "        -3.1732e-01,  8.4667e+00, -6.1989e+00,  9.7339e-01, -7.5685e-01,\n",
            "         3.4188e+00, -4.5779e+00,  3.6048e+00,  4.3604e+00, -2.2862e+00,\n",
            "        -5.1871e+00,  3.7409e+00,  1.8155e-02,  3.2871e+00, -6.5745e+00,\n",
            "        -5.2397e-01, -2.6219e+00, -2.7774e+00,  5.9623e-01, -1.4281e+00,\n",
            "         3.8191e+00, -2.7460e+00, -5.1823e+00,  2.4702e-01,  8.1724e-01,\n",
            "         8.2961e+00,  1.9727e+00, -1.5977e+00,  3.3586e+00, -4.0557e+00,\n",
            "         1.4984e+00, -1.6858e+00,  2.4772e-01,  3.2900e+00,  5.9622e+00,\n",
            "        -3.9478e+00, -2.4464e-01, -8.6584e-01, -5.9367e-01, -4.2415e+00,\n",
            "         2.5528e+00,  2.9338e-01,  2.3323e+00,  1.0112e+00, -2.8117e-01,\n",
            "        -1.5466e-01,  2.3258e-01,  4.4417e+00, -2.6198e+00, -4.6203e+00,\n",
            "        -1.0832e+00, -8.8206e-01,  1.3424e+00, -2.3180e+00,  8.8878e+00,\n",
            "         3.1150e+00, -1.2821e+00, -2.8440e+00,  2.6179e+00, -4.5849e+00,\n",
            "        -2.1251e+00, -1.5841e+00,  1.9993e+00, -3.4554e+01,  3.8734e+00,\n",
            "        -3.6901e+00, -2.2185e+00,  1.6124e+00, -1.9643e+00, -3.5396e-02,\n",
            "        -1.9077e+00,  7.0281e-02, -5.8842e-01, -8.5845e-01,  1.9827e+00,\n",
            "         6.5411e+00, -1.9804e+00, -3.0968e+00, -4.6007e+00, -2.5113e-01,\n",
            "         5.1458e+00,  3.1689e+00, -3.2157e+00, -2.3369e+00,  1.3344e-01,\n",
            "        -5.9510e+00,  5.5927e-01, -3.0295e+00,  4.9157e+00, -4.9817e+00,\n",
            "         1.6127e+00,  1.3729e+01, -1.4702e+00,  4.7524e+00,  4.6797e+00,\n",
            "        -7.3380e+00,  2.9820e+00,  4.7199e+00, -2.6492e+00,  1.4365e+00,\n",
            "        -4.9655e+00, -2.9037e+00, -2.6666e+00, -5.1022e-01,  3.6135e+00,\n",
            "         6.3521e+00,  6.1214e-01, -3.1950e-01,  2.4776e+00,  2.9754e-01,\n",
            "         2.6123e+00, -9.9539e-01,  9.8619e+00, -1.2912e+00, -7.9814e-02,\n",
            "         2.8816e+00, -3.6327e-01, -2.9235e+00,  1.1789e+00, -2.7434e-01,\n",
            "        -1.1007e+00,  3.4981e+00,  1.0710e+00, -5.0119e-01, -1.3205e+00,\n",
            "        -2.2449e+00,  2.4969e+00,  1.0467e+00,  7.7211e-01, -2.8694e+00,\n",
            "        -3.4758e+00, -3.3390e-01, -2.4271e+00,  2.3265e+00, -5.1477e+00,\n",
            "        -1.3437e+00, -8.0097e-01, -1.2269e+00,  7.4939e+00, -1.0073e+00,\n",
            "         2.9075e+00, -2.3906e+00,  5.0649e+00, -1.4796e+00,  2.7384e+00,\n",
            "        -7.3197e-01,  6.9986e-01,  4.3478e+00, -1.3397e+00, -1.4609e-01,\n",
            "        -1.8830e+00,  6.4797e-02,  1.5706e+00,  5.3446e-01,  1.0143e+00,\n",
            "        -5.4224e-01, -2.6010e+00, -2.0490e+00, -2.1622e+00, -3.3396e-01,\n",
            "         1.9205e+00,  1.8367e+00, -7.9949e-01,  4.8484e+00,  4.5790e-01,\n",
            "        -3.7836e+00, -1.7374e+00, -6.8920e+00, -2.3858e+00, -2.6335e+00,\n",
            "        -4.9562e-01,  2.4453e+00,  3.0642e+00,  9.0477e+00, -2.2403e-02,\n",
            "        -3.3489e+00, -1.0766e-01,  1.6515e+00,  7.7386e-01,  4.9770e+00,\n",
            "        -1.0313e+00,  5.6749e+00, -5.1998e+00, -3.9858e+00, -1.4826e+00,\n",
            "        -3.0822e+00, -2.7225e+00, -2.8668e+00,  8.0842e-02, -1.6719e+00,\n",
            "        -5.4889e+00, -4.9128e-02,  4.3290e-01, -3.6584e+00,  1.6677e+00,\n",
            "         4.1377e-01,  3.4337e+00, -1.3014e+00,  3.7055e+00, -1.5757e+00,\n",
            "         6.8627e-01, -2.0363e+00,  8.0744e-02,  1.0853e+00,  8.1329e-01,\n",
            "        -2.4985e+00,  7.4831e-03, -5.8864e+00, -6.2414e-01, -4.1449e+00,\n",
            "         2.6018e+00,  1.0129e+00, -3.9188e+00, -1.1999e+00, -2.0804e+00,\n",
            "         1.4301e-01, -1.0364e+00,  9.8507e-01,  2.2019e+00,  1.9266e-02,\n",
            "         1.1901e+00, -3.9382e+00, -1.7024e+00,  4.4163e-01,  1.0500e+00,\n",
            "         2.6455e+00,  4.2457e+00,  6.7888e+00,  8.6811e+00,  2.1699e+00,\n",
            "        -3.7276e+00, -2.5209e+00,  2.6110e+00,  5.5600e+00, -2.5071e+00,\n",
            "        -5.7639e+00,  2.5244e+00,  3.8544e-01, -1.1782e+00, -1.1382e+00,\n",
            "        -2.2507e-01,  1.0431e+00, -6.0799e+00,  7.4514e+00, -3.3208e+00,\n",
            "         7.6513e-01,  6.2500e-01,  1.7974e+00,  3.9048e+00,  6.6969e+00,\n",
            "        -5.9590e-01,  2.7056e+00,  3.4023e+00,  2.7139e+00,  4.6818e+00,\n",
            "         1.2320e+00,  1.5370e+00,  5.9209e-01, -6.1425e-01,  1.4614e+00,\n",
            "        -3.5788e+00, -8.2614e-01, -5.7266e+00, -7.5910e-01,  2.7129e+00,\n",
            "        -5.8023e-01, -4.5286e+00, -3.5067e+00, -4.7506e+00,  6.7473e+00,\n",
            "        -1.6007e+00,  3.7617e+00, -1.3774e+00, -4.6851e+00, -1.4479e+00,\n",
            "         5.6356e+00,  1.1791e+00,  2.4288e+00,  3.6612e-01, -4.6757e+00,\n",
            "         2.2915e+00, -2.0290e+00, -1.5084e+00,  2.9507e+00, -4.7755e-01,\n",
            "         2.5865e-01, -6.4885e+00,  1.4557e+00,  1.7533e+00,  5.3207e+00,\n",
            "         2.9112e+00,  2.2777e+00,  2.3770e+00, -1.5819e+00,  1.7787e+00,\n",
            "         6.6428e+00, -2.3810e+00, -2.2324e+00, -6.4439e+00, -2.6386e+00,\n",
            "         1.0012e+00, -8.2964e-01, -4.0014e+00, -3.3071e-01, -8.4475e-01,\n",
            "         5.0096e+00,  6.2036e+00,  4.7296e+00, -2.0931e+00,  1.2895e+00,\n",
            "        -2.3875e+00, -1.4556e+00, -1.4149e+00,  2.5780e+00,  3.6687e+00,\n",
            "        -3.1437e+00, -7.6025e-01,  1.6312e+00,  2.6275e-01,  1.9422e-01,\n",
            "        -5.8394e+00,  1.3052e+00, -2.9694e+00, -6.9486e+00, -7.4745e-01,\n",
            "        -3.3173e+00, -2.6130e+00,  1.9619e+00,  1.3366e+00, -5.5404e+00,\n",
            "        -3.6969e-01,  1.5631e+00,  3.6311e+00,  3.6590e+00,  1.7046e+00,\n",
            "        -3.7382e+00,  3.7141e+00, -1.5039e+00,  1.9021e+00, -6.0146e+00,\n",
            "        -1.2438e+00,  3.3763e+00, -4.1204e+00, -3.3967e+00, -2.3580e+00,\n",
            "        -5.3827e+00,  3.7823e-01,  8.2858e-01,  4.4075e+00, -1.9320e+00,\n",
            "         6.1160e+00, -2.1085e-01, -4.0994e+00, -3.8882e+00, -9.4212e+00,\n",
            "        -2.4942e+00,  5.4260e+00, -3.6472e+00])\n",
            "سِرْوِرْ\n",
            "['یک', 'عدد', 'سِرْوِرْ', 'در', 'دیتاسنتر', 'وجود', 'دارد']\n",
            "یک عدد سِرْوِرْ در دیتاسنتر وجود دارد \n",
            "['یک عدد سرور در دیتاسنتر وجود دارد', 'سرورهای شبکه ی ما غیر فعال اند – ما برای برنامه نویسی بهتر به اپلیکیشن تحت سرور نیاز داریم – برای بهبود سرور بایستی زیرساخت را ارتقا داد ', 'آن بزرگ مرد سرور ماست – عالیجناب در تمامی مجالس بزرگ و سرور بوده اند – باید مراسمی برای سرور و سالار شهیدان برگزار شود ', 'شادی و سرور از موارد لازم در زندگی هر انسانی است – وی با سرور زیاد درخواست ما را پذیرفت – در تمامی مراحل درس خواندن علاوه بر تلاش زیاد سعی کن سرور زیادی داشته باشی ']\n",
            "['سِرْوِرْ', 'سَرْوَرْ', 'سُرُورْ']\n"
          ]
        }
      ]
    }
  ]
}